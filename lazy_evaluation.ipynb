{
 "cells": [
  {
   "cell_type": "markdown",
   "metadata": {},
   "source": [
    "## Overview\n",
    "- Don't return a value from an expression until it's needed\n",
    "- Python allocates memory for objects, and it won't be freed as long as the object exists in the program\n",
    "    - This isn't a problem for small objects, but larger objects require more memory, which can cause performance issues\n",
    "\n",
    "- Lazy evaluation delays when a program evaluates expressions, which can improve the performance of a program by spreading the time-consuming process across a longer time period\n",
    "    - It also prevents values that won't be used from being generated\n",
    "\n",
    "- Errors raised by a lazily-evaluated expression are deferred to later in the program, which can make debugging more difficult"
   ]
  },
  {
   "cell_type": "markdown",
   "metadata": {},
   "source": [
    "## Examples\n",
    "`enumerate()` creates an iterator behind the scenes"
   ]
  },
  {
   "cell_type": "code",
   "execution_count": 5,
   "metadata": {},
   "outputs": [
    {
     "data": {
      "text/plain": [
       "<enumerate at 0x1075759e0>"
      ]
     },
     "execution_count": 5,
     "metadata": {},
     "output_type": "execute_result"
    }
   ],
   "source": [
    "import random\n",
    "\n",
    "names = ['Sarah', 'Matt', 'Jim', 'Denise', 'Kate']\n",
    "random.shuffle(names)\n",
    "\n",
    "numbered_names = enumerate(names, start=1)\n",
    "numbered_names"
   ]
  },
  {
   "cell_type": "code",
   "execution_count": 6,
   "metadata": {},
   "outputs": [
    {
     "name": "stdout",
     "output_type": "stream",
     "text": [
      "(1, 'Jim')\n",
      "(2, 'Kate')\n"
     ]
    }
   ],
   "source": [
    "print(next(numbered_names))\n",
    "print(next(numbered_names))"
   ]
  },
  {
   "cell_type": "markdown",
   "metadata": {},
   "source": [
    "And so does the `zip()` function"
   ]
  },
  {
   "cell_type": "code",
   "execution_count": 10,
   "metadata": {},
   "outputs": [
    {
     "name": "stdout",
     "output_type": "stream",
     "text": [
      "('Monday', 'Matt')\n",
      "('Tuesday', 'Sarah')\n",
      "('Wednesday', 'The Coffee Robot')\n"
     ]
    }
   ],
   "source": [
    "names = ['Sarah', 'Matt', 'Jim', 'Denise', 'Kate']\n",
    "weekdays = ['Monday', 'Tuesday', 'Wednesday', 'Thursday', 'Friday']\n",
    "random.shuffle(names)\n",
    "\n",
    "day_name_pairs = zip(weekdays, names)\n",
    "print(next(day_name_pairs))\n",
    "print(next(day_name_pairs))\n",
    "\n",
    "# We can modify the third element in \"names\" and the third element in \"day_name_pairs\" will reflect that change since it's evaluated lazily!\n",
    "names[2] = 'The Coffee Robot'\n",
    "print(next(day_name_pairs))\n",
    "\n",
    "# This can be nice, but we need to be cautious as the data is not fixed at the time of creation"
   ]
  },
  {
   "cell_type": "markdown",
   "metadata": {},
   "source": [
    "## Itertools"
   ]
  },
  {
   "cell_type": "markdown",
   "metadata": {},
   "source": [
    "`chain()` - combine 2 iterators into a new iterator, which is then evaluated lazily"
   ]
  },
  {
   "cell_type": "code",
   "execution_count": 11,
   "metadata": {},
   "outputs": [
    {
     "name": "stdout",
     "output_type": "stream",
     "text": [
      "Sarah\n",
      "Matt\n",
      "Jim\n",
      "Denise\n",
      "Kate\n"
     ]
    }
   ],
   "source": [
    "import itertools\n",
    "\n",
    "first_team = ['Sarah', 'Matt', 'Jim']\n",
    "second_team = ['Denise', 'Kate']\n",
    "\n",
    "for name in itertools.chain(first_team, second_team):\n",
    "    print(name)"
   ]
  },
  {
   "cell_type": "markdown",
   "metadata": {},
   "source": [
    "`islice()`"
   ]
  },
  {
   "cell_type": "code",
   "execution_count": 12,
   "metadata": {},
   "outputs": [
    {
     "data": {
      "text/plain": [
       "<itertools.islice at 0x1075766b0>"
      ]
     },
     "execution_count": 12,
     "metadata": {},
     "output_type": "execute_result"
    }
   ],
   "source": [
    "numbers = [1, 2, 3, 4, 5]\n",
    "standard_slice = numbers[1:4]\n",
    "iterator_slice = itertools.islice(numbers, 1, 4)\n",
    "\n",
    "iterator_slice"
   ]
  },
  {
   "cell_type": "code",
   "execution_count": 13,
   "metadata": {},
   "outputs": [
    {
     "name": "stdout",
     "output_type": "stream",
     "text": [
      "standard_slice: [2, 3, 4]\n",
      "iterator_slice: [2, 999, 4]\n"
     ]
    }
   ],
   "source": [
    "numbers[2] = 999\n",
    "\n",
    "print('standard_slice:', list(standard_slice))\n",
    "print('iterator_slice:', list(iterator_slice))"
   ]
  },
  {
   "cell_type": "markdown",
   "metadata": {},
   "source": [
    "## Generator Expressions and Generator Functions\n",
    "Generator objects are iterators whose values are generated as needed./"
   ]
  },
  {
   "cell_type": "code",
   "execution_count": 14,
   "metadata": {},
   "outputs": [
    {
     "data": {
      "text/plain": [
       "<generator object <genexpr> at 0x10768de50>"
      ]
     },
     "execution_count": 14,
     "metadata": {},
     "output_type": "execute_result"
    }
   ],
   "source": [
    "coin_toss = (\n",
    "    'H' if random.random() > 0.5 else 'T'\n",
    "    for _ in range(10)\n",
    ")\n",
    "\n",
    "coin_toss"
   ]
  },
  {
   "cell_type": "code",
   "execution_count": 15,
   "metadata": {},
   "outputs": [
    {
     "name": "stdout",
     "output_type": "stream",
     "text": [
      "T\n",
      "H\n"
     ]
    }
   ],
   "source": [
    "print(next(coin_toss))\n",
    "print(next(coin_toss))"
   ]
  },
  {
   "cell_type": "code",
   "execution_count": 16,
   "metadata": {},
   "outputs": [
    {
     "data": {
      "text/plain": [
       "['H', 'H', 'H', 'H', 'T', 'H', 'T', 'T']"
      ]
     },
     "execution_count": 16,
     "metadata": {},
     "output_type": "execute_result"
    }
   ],
   "source": [
    "[res for res in coin_toss]  # only 8 tosses left until the generator is exhausted"
   ]
  },
  {
   "cell_type": "code",
   "execution_count": null,
   "metadata": {},
   "outputs": [],
   "source": []
  },
  {
   "cell_type": "markdown",
   "metadata": {},
   "source": []
  }
 ],
 "metadata": {
  "kernelspec": {
   "display_name": ".env",
   "language": "python",
   "name": "python3"
  },
  "language_info": {
   "codemirror_mode": {
    "name": "ipython",
    "version": 3
   },
   "file_extension": ".py",
   "mimetype": "text/x-python",
   "name": "python",
   "nbconvert_exporter": "python",
   "pygments_lexer": "ipython3",
   "version": "3.11.9"
  }
 },
 "nbformat": 4,
 "nbformat_minor": 2
}
