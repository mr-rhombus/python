{
 "cells": [
  {
   "cell_type": "markdown",
   "metadata": {},
   "source": [
    "## Overview\n",
    "- Don't return a value from an expression until it's needed\n",
    "- Python allocates memory for objects, and it won't be freed as long as the object exists in the program\n",
    "    - This isn't a problem for small objects, but larger objects require more memory, which can cause performance issues\n",
    "\n",
    "- Lazy evaluation delays when a program evaluates expressions, which can improve the performance of a program by spreading the time-consuming process across a longer time period\n",
    "    - It also prevents values that won't be used from being generated\n",
    "\n",
    "- Errors raised by a lazily-evaluated expression are deferred to later in the program, which can make debugging more difficult"
   ]
  },
  {
   "cell_type": "markdown",
   "metadata": {},
   "source": [
    "## Examples\n",
    "`enumerate()` creates an iterator behind the scenes"
   ]
  },
  {
   "cell_type": "code",
   "execution_count": 5,
   "metadata": {},
   "outputs": [
    {
     "data": {
      "text/plain": [
       "<enumerate at 0x1075759e0>"
      ]
     },
     "execution_count": 5,
     "metadata": {},
     "output_type": "execute_result"
    }
   ],
   "source": [
    "import random\n",
    "\n",
    "names = ['Sarah', 'Matt', 'Jim', 'Denise', 'Kate']\n",
    "random.shuffle(names)\n",
    "\n",
    "numbered_names = enumerate(names, start=1)\n",
    "numbered_names"
   ]
  },
  {
   "cell_type": "code",
   "execution_count": 6,
   "metadata": {},
   "outputs": [
    {
     "name": "stdout",
     "output_type": "stream",
     "text": [
      "(1, 'Jim')\n",
      "(2, 'Kate')\n"
     ]
    }
   ],
   "source": [
    "print(next(numbered_names))\n",
    "print(next(numbered_names))"
   ]
  },
  {
   "cell_type": "markdown",
   "metadata": {},
   "source": [
    "And so does the `zip()` function"
   ]
  },
  {
   "cell_type": "code",
   "execution_count": 10,
   "metadata": {},
   "outputs": [
    {
     "name": "stdout",
     "output_type": "stream",
     "text": [
      "('Monday', 'Matt')\n",
      "('Tuesday', 'Sarah')\n",
      "('Wednesday', 'The Coffee Robot')\n"
     ]
    }
   ],
   "source": [
    "names = ['Sarah', 'Matt', 'Jim', 'Denise', 'Kate']\n",
    "weekdays = ['Monday', 'Tuesday', 'Wednesday', 'Thursday', 'Friday']\n",
    "random.shuffle(names)\n",
    "\n",
    "day_name_pairs = zip(weekdays, names)\n",
    "print(next(day_name_pairs))\n",
    "print(next(day_name_pairs))\n",
    "\n",
    "# We can modify the third element in \"names\" and the third element in \"day_name_pairs\" will reflect that change since it's evaluated lazily!\n",
    "names[2] = 'The Coffee Robot'\n",
    "print(next(day_name_pairs))\n",
    "\n",
    "# This can be nice, but we need to be cautious as the data is not fixed at the time of creation"
   ]
  },
  {
   "cell_type": "markdown",
   "metadata": {},
   "source": [
    "## Itertools"
   ]
  },
  {
   "cell_type": "markdown",
   "metadata": {},
   "source": [
    "`chain()` - combine 2 iterators into a new iterator, which is then evaluated lazily"
   ]
  },
  {
   "cell_type": "code",
   "execution_count": 11,
   "metadata": {},
   "outputs": [
    {
     "name": "stdout",
     "output_type": "stream",
     "text": [
      "Sarah\n",
      "Matt\n",
      "Jim\n",
      "Denise\n",
      "Kate\n"
     ]
    }
   ],
   "source": [
    "import itertools\n",
    "\n",
    "first_team = ['Sarah', 'Matt', 'Jim']\n",
    "second_team = ['Denise', 'Kate']\n",
    "\n",
    "for name in itertools.chain(first_team, second_team):\n",
    "    print(name)"
   ]
  },
  {
   "cell_type": "markdown",
   "metadata": {},
   "source": [
    "`islice()`"
   ]
  },
  {
   "cell_type": "code",
   "execution_count": 12,
   "metadata": {},
   "outputs": [
    {
     "data": {
      "text/plain": [
       "<itertools.islice at 0x1075766b0>"
      ]
     },
     "execution_count": 12,
     "metadata": {},
     "output_type": "execute_result"
    }
   ],
   "source": [
    "numbers = [1, 2, 3, 4, 5]\n",
    "standard_slice = numbers[1:4]\n",
    "iterator_slice = itertools.islice(numbers, 1, 4)\n",
    "\n",
    "iterator_slice"
   ]
  },
  {
   "cell_type": "code",
   "execution_count": 13,
   "metadata": {},
   "outputs": [
    {
     "name": "stdout",
     "output_type": "stream",
     "text": [
      "standard_slice: [2, 3, 4]\n",
      "iterator_slice: [2, 999, 4]\n"
     ]
    }
   ],
   "source": [
    "numbers[2] = 999\n",
    "\n",
    "print('standard_slice:', list(standard_slice))\n",
    "print('iterator_slice:', list(iterator_slice))"
   ]
  },
  {
   "cell_type": "markdown",
   "metadata": {},
   "source": [
    "## Generator Expressions and Generator Functions\n",
    "Generator objects are iterators whose values are generated as needed./"
   ]
  },
  {
   "cell_type": "code",
   "execution_count": 19,
   "metadata": {},
   "outputs": [
    {
     "data": {
      "text/plain": [
       "<generator object <genexpr> at 0x1076e1a40>"
      ]
     },
     "execution_count": 19,
     "metadata": {},
     "output_type": "execute_result"
    }
   ],
   "source": [
    "coin_toss = (\n",
    "    'H' if random.random() > 0.5 else 'T'\n",
    "    for _ in range(10)\n",
    ")\n",
    "\n",
    "coin_toss"
   ]
  },
  {
   "cell_type": "code",
   "execution_count": 20,
   "metadata": {},
   "outputs": [
    {
     "name": "stdout",
     "output_type": "stream",
     "text": [
      "T\n",
      "T\n"
     ]
    }
   ],
   "source": [
    "print(next(coin_toss))\n",
    "print(next(coin_toss))"
   ]
  },
  {
   "cell_type": "code",
   "execution_count": 21,
   "metadata": {},
   "outputs": [
    {
     "name": "stdout",
     "output_type": "stream",
     "text": [
      "['T', 'T', 'T', 'H', 'H', 'T', 'T', 'H']\n"
     ]
    }
   ],
   "source": [
    "print(list(coin_toss))  # only 8 tosses left until the generator is exhausted"
   ]
  },
  {
   "cell_type": "markdown",
   "metadata": {},
   "source": [
    "Generator functions can accomplish something similar by using the `yield` keyword"
   ]
  },
  {
   "cell_type": "code",
   "execution_count": 18,
   "metadata": {},
   "outputs": [
    {
     "name": "stdout",
     "output_type": "stream",
     "text": [
      "H\n",
      "T\n",
      "['H', 'H', 'T', 'T', 'T', 'T', 'H', 'T']\n"
     ]
    }
   ],
   "source": [
    "def generate_coin_toss(n):\n",
    "    for _ in range(n):\n",
    "        yield 'H' if random.random() > 0.5 else 'T'\n",
    "\n",
    "coin_toss = generate_coin_toss(10)\n",
    "\n",
    "print(next(coin_toss))\n",
    "print(next(coin_toss))\n",
    "print([el for el in coin_toss])  # again, only 8 tosses left"
   ]
  },
  {
   "cell_type": "code",
   "execution_count": 22,
   "metadata": {},
   "outputs": [
    {
     "ename": "StopIteration",
     "evalue": "",
     "output_type": "error",
     "traceback": [
      "\u001b[0;31m---------------------------------------------------------------------------\u001b[0m",
      "\u001b[0;31mStopIteration\u001b[0m                             Traceback (most recent call last)",
      "Cell \u001b[0;32mIn[22], line 1\u001b[0m\n\u001b[0;32m----> 1\u001b[0m \u001b[38;5;28mprint\u001b[39m(\u001b[38;5;28;43mnext\u001b[39;49m\u001b[43m(\u001b[49m\u001b[43mcoin_toss\u001b[49m\u001b[43m)\u001b[49m)  \u001b[38;5;66;03m# StopIteration exception when a generator is exhausted\u001b[39;00m\n",
      "\u001b[0;31mStopIteration\u001b[0m: "
     ]
    }
   ],
   "source": [
    "print(next(coin_toss))  # StopIteration exception when a generator is exhausted"
   ]
  },
  {
   "cell_type": "markdown",
   "metadata": {},
   "source": [
    "## Functional Programming\n",
    "Functional programming is a paradigm where functions only have access to data input and don't alter the state of objects. Instead, they return new objects. The output of one function is typically passed as the input to the next. Thi smakes it convenient to use lazy evaluation to avoid storing and moving large datasets repeatedly."
   ]
  },
  {
   "cell_type": "markdown",
   "metadata": {},
   "source": [
    "`map()`"
   ]
  },
  {
   "cell_type": "code",
   "execution_count": 23,
   "metadata": {},
   "outputs": [
    {
     "data": {
      "text/plain": [
       "<map at 0x10b811a80>"
      ]
     },
     "execution_count": 23,
     "metadata": {},
     "output_type": "execute_result"
    }
   ],
   "source": [
    "original_names = ['Sarah', 'Matt', 'Jim', 'Denise', 'Kate']\n",
    "names = map(str.upper, original_names)\n",
    "names"
   ]
  },
  {
   "cell_type": "code",
   "execution_count": 24,
   "metadata": {},
   "outputs": [
    {
     "name": "stdout",
     "output_type": "stream",
     "text": [
      "SARAH\n",
      "['MATT', 'JIM', 'DENISE', 'KATE']\n"
     ]
    }
   ],
   "source": [
    "print(next(names))\n",
    "print(list(names))"
   ]
  },
  {
   "cell_type": "markdown",
   "metadata": {},
   "source": [
    "`filter()`"
   ]
  },
  {
   "cell_type": "code",
   "execution_count": 25,
   "metadata": {},
   "outputs": [
    {
     "data": {
      "text/plain": [
       "<filter at 0x107583550>"
      ]
     },
     "execution_count": 25,
     "metadata": {},
     "output_type": "execute_result"
    }
   ],
   "source": [
    "names = map(str.upper, original_names)  # instantiate a new generator\n",
    "names = filter(lambda x: 'A' in x, names)\n",
    "names"
   ]
  },
  {
   "cell_type": "code",
   "execution_count": 26,
   "metadata": {},
   "outputs": [
    {
     "name": "stdout",
     "output_type": "stream",
     "text": [
      "['SARAH', 'MATT', 'KATE']\n"
     ]
    }
   ],
   "source": [
    "print(list(names))"
   ]
  },
  {
   "cell_type": "code",
   "execution_count": 27,
   "metadata": {},
   "outputs": [
    {
     "name": "stdout",
     "output_type": "stream",
     "text": [
      "['MATT', 'KATE']\n"
     ]
    }
   ],
   "source": [
    "names = map(str.upper, original_names)  # instantiate a new generator\n",
    "names = filter(lambda x: 'A' in x, names)\n",
    "names = filter(lambda x: len(x) == 4, names)  # chain a second filter\n",
    "\n",
    "print(list(names))"
   ]
  },
  {
   "cell_type": "markdown",
   "metadata": {},
   "source": [
    "## File Reading Operations\n",
    "Use the `reader()` function of the `csv` module to evaluate spreadsheet rows lazily by fetching each row only when needed"
   ]
  },
  {
   "cell_type": "code",
   "execution_count": 31,
   "metadata": {},
   "outputs": [
    {
     "data": {
      "text/plain": [
       "<_csv.reader at 0x10bc36810>"
      ]
     },
     "execution_count": 31,
     "metadata": {},
     "output_type": "execute_result"
    }
   ],
   "source": [
    "import csv\n",
    "\n",
    "file = open('data/superhero_pets.csv', encoding='utf-8', newline='')\n",
    "data = csv.reader(file)\n",
    "data"
   ]
  },
  {
   "cell_type": "code",
   "execution_count": 32,
   "metadata": {},
   "outputs": [
    {
     "name": "stdout",
     "output_type": "stream",
     "text": [
      "['Pet Name', 'Species', 'Superpower', 'Favorite Snack', 'Hero Owner']\n",
      "['Whiskertron', 'Cat', 'Teleportation', 'Tuna', 'Catwoman']\n"
     ]
    }
   ],
   "source": [
    "print(next(data))\n",
    "print(next(data))"
   ]
  },
  {
   "cell_type": "code",
   "execution_count": 33,
   "metadata": {},
   "outputs": [
    {
     "name": "stdout",
     "output_type": "stream",
     "text": [
      "['Flashpaw', 'Dog', 'Super Speed', 'Peanut Butter', 'The Flash']\n",
      "['Mystique', 'Squirrel', 'Illusion', 'Nuts', 'Doctor Strange']\n",
      "['Quackstorm', 'Duck', 'Weather Control', 'Bread crumbs', 'Storm']\n",
      "['Bark Knight', 'Dog', 'Darkness Manipulation', 'Bacon', 'Batman']\n"
     ]
    }
   ],
   "source": [
    "for row in data:\n",
    "    print(row)\n",
    "file.close()"
   ]
  },
  {
   "cell_type": "markdown",
   "metadata": {},
   "source": [
    "## Infinite Data Structures\n",
    "\n",
    "`itertools.count()`"
   ]
  },
  {
   "cell_type": "markdown",
   "metadata": {},
   "source": []
  },
  {
   "cell_type": "code",
   "execution_count": 38,
   "metadata": {},
   "outputs": [
    {
     "name": "stdout",
     "output_type": "stream",
     "text": [
      "[0, 0.25, 0.5, 0.75, 1.0]\n",
      "[1.25, 1.5, 1.75, 2.0, 2.25]\n"
     ]
    }
   ],
   "source": [
    "quarters = itertools.count(start=0, step=0.25)\n",
    "print(list(itertools.islice(quarters, 0, 5)))\n",
    "print(list(itertools.islice(quarters, 0, 5)))"
   ]
  },
  {
   "cell_type": "markdown",
   "metadata": {},
   "source": [
    "`itertools.cycle()`"
   ]
  },
  {
   "cell_type": "code",
   "execution_count": 39,
   "metadata": {},
   "outputs": [
    {
     "name": "stdout",
     "output_type": "stream",
     "text": [
      "['Sarah', 'Matt', 'Jim', 'Denise', 'Kate', 'Sarah']\n"
     ]
    }
   ],
   "source": [
    "names = ['Sarah', 'Matt', 'Jim', 'Denise', 'Kate']\n",
    "rota = itertools.cycle(names)\n",
    "print(list(itertools.islice(rota, 0, 6)))"
   ]
  },
  {
   "cell_type": "markdown",
   "metadata": {},
   "source": [
    "## Advantages\n",
    "- Reduce memory footprint\n",
    "- Performance gains in programs with lots of expressions\n",
    "\n",
    "## Disadvantages\n",
    "- Debugging may be more difficult"
   ]
  },
  {
   "cell_type": "markdown",
   "metadata": {},
   "source": []
  }
 ],
 "metadata": {
  "kernelspec": {
   "display_name": ".env",
   "language": "python",
   "name": "python3"
  },
  "language_info": {
   "codemirror_mode": {
    "name": "ipython",
    "version": 3
   },
   "file_extension": ".py",
   "mimetype": "text/x-python",
   "name": "python",
   "nbconvert_exporter": "python",
   "pygments_lexer": "ipython3",
   "version": "3.11.9"
  }
 },
 "nbformat": 4,
 "nbformat_minor": 2
}
