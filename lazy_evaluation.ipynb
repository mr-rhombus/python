{
 "cells": [
  {
   "cell_type": "markdown",
   "metadata": {},
   "source": [
    "## Overview\n",
    "- Don't return a value from an expression until it's needed\n",
    "- Python allocates memory for objects, and it won't be freed as long as the object exists in the program\n",
    "    - This isn't a problem for small objects, but larger objects require more memory, which can cause performance issues\n",
    "\n",
    "- Lazy evaluation delays when a program evaluates expressions, which can improve the performance of a program by spreading the time-consuming process across a longer time period\n",
    "    - It also prevents values that won't be used from being generated\n",
    "\n",
    "- Errors raised by a lazily-evaluated expression are deferred to later in the program, which can make debugging more difficult"
   ]
  },
  {
   "cell_type": "markdown",
   "metadata": {},
   "source": []
  }
 ],
 "metadata": {
  "language_info": {
   "name": "python"
  }
 },
 "nbformat": 4,
 "nbformat_minor": 2
}
