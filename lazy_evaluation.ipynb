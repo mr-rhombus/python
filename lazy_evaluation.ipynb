{
 "cells": [
  {
   "cell_type": "markdown",
   "metadata": {},
   "source": [
    "## Overview\n",
    "- Don't return a value from an expression until it's needed\n",
    "- Python allocates memory for objects, and it won't be freed as long as the object exists in the program\n",
    "    - This isn't a problem for small objects, but larger objects require more memory, which can cause performance issues\n",
    "\n",
    "- Lazy evaluation delays when a program evaluates expressions, which can improve the performance of a program by spreading the time-consuming process across a longer time period\n",
    "    - It also prevents values that won't be used from being generated\n",
    "\n",
    "- Errors raised by a lazily-evaluated expression are deferred to later in the program, which can make debugging more difficult"
   ]
  },
  {
   "cell_type": "markdown",
   "metadata": {},
   "source": [
    "## Examples\n",
    "`enumerate()` creates an iterator behind the scenes"
   ]
  },
  {
   "cell_type": "code",
   "execution_count": 5,
   "metadata": {},
   "outputs": [
    {
     "data": {
      "text/plain": [
       "<enumerate at 0x1075759e0>"
      ]
     },
     "execution_count": 5,
     "metadata": {},
     "output_type": "execute_result"
    }
   ],
   "source": [
    "import random\n",
    "\n",
    "names = ['Sarah', 'Matt', 'Jim', 'Denise', 'Kate']\n",
    "random.shuffle(names)\n",
    "\n",
    "numbered_names = enumerate(names, start=1)\n",
    "numbered_names"
   ]
  },
  {
   "cell_type": "code",
   "execution_count": 6,
   "metadata": {},
   "outputs": [
    {
     "name": "stdout",
     "output_type": "stream",
     "text": [
      "(1, 'Jim')\n",
      "(2, 'Kate')\n"
     ]
    }
   ],
   "source": [
    "print(next(numbered_names))\n",
    "print(next(numbered_names))"
   ]
  },
  {
   "cell_type": "markdown",
   "metadata": {},
   "source": [
    "And so does the `zip()` function"
   ]
  },
  {
   "cell_type": "code",
   "execution_count": 10,
   "metadata": {},
   "outputs": [
    {
     "name": "stdout",
     "output_type": "stream",
     "text": [
      "('Monday', 'Matt')\n",
      "('Tuesday', 'Sarah')\n",
      "('Wednesday', 'The Coffee Robot')\n"
     ]
    }
   ],
   "source": [
    "names = ['Sarah', 'Matt', 'Jim', 'Denise', 'Kate']\n",
    "weekdays = ['Monday', 'Tuesday', 'Wednesday', 'Thursday', 'Friday']\n",
    "random.shuffle(names)\n",
    "\n",
    "day_name_pairs = zip(weekdays, names)\n",
    "print(next(day_name_pairs))\n",
    "print(next(day_name_pairs))\n",
    "\n",
    "# We can modify the third element in \"names\" and the third element in \"day_name_pairs\" will reflect that change since it's evaluated lazily!\n",
    "names[2] = 'The Coffee Robot'\n",
    "print(next(day_name_pairs))\n",
    "\n",
    "# This can be nice, but we need to be cautious as the data is not fixed at the time of creation"
   ]
  },
  {
   "cell_type": "markdown",
   "metadata": {},
   "source": [
    "## Itertools"
   ]
  },
  {
   "cell_type": "code",
   "execution_count": null,
   "metadata": {},
   "outputs": [],
   "source": []
  },
  {
   "cell_type": "code",
   "execution_count": null,
   "metadata": {},
   "outputs": [],
   "source": []
  },
  {
   "cell_type": "code",
   "execution_count": null,
   "metadata": {},
   "outputs": [],
   "source": []
  },
  {
   "cell_type": "markdown",
   "metadata": {},
   "source": []
  }
 ],
 "metadata": {
  "kernelspec": {
   "display_name": ".env",
   "language": "python",
   "name": "python3"
  },
  "language_info": {
   "codemirror_mode": {
    "name": "ipython",
    "version": 3
   },
   "file_extension": ".py",
   "mimetype": "text/x-python",
   "name": "python",
   "nbconvert_exporter": "python",
   "pygments_lexer": "ipython3",
   "version": "3.11.9"
  }
 },
 "nbformat": 4,
 "nbformat_minor": 2
}
